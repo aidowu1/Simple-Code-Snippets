{
 "cells": [
  {
   "cell_type": "markdown",
   "metadata": {},
   "source": [
    "## Random Grouping of Names"
   ]
  },
  {
   "cell_type": "code",
   "execution_count": 60,
   "metadata": {},
   "outputs": [],
   "source": [
    "import random\n",
    "import os\n",
    "import pandas as pd\n",
    "import numpy as np"
   ]
  },
  {
   "cell_type": "code",
   "execution_count": 84,
   "metadata": {},
   "outputs": [],
   "source": [
    "def getRandomFirstAndLastNames():\n",
    "    first_names_filename = os.path.join(r'.\\names_dataset', 'first_names.all.txt')\n",
    "    with open(first_names_filename, 'r', errors='ignore', encoding='utf8') as r:\n",
    "        first_names = list(set(r.read().strip().split('\\n')))\n",
    "    last_names_filename = os.path.join(r'.\\names_dataset', 'last_names.all.txt')\n",
    "    with open(last_names_filename, 'r', errors='ignore', encoding='utf8') as r:\n",
    "        last_names = list(set(r.read().strip().split('\\n')))\n",
    "    return first_names, last_names\n",
    "\n",
    "def getNRandomFullnames(n_names = 50):\n",
    "    first_names, last_names = getRandomFirstAndLastNames()\n",
    "    full_name_tuples = list(zip(first_names[:n_names], last_names[:n_names]))\n",
    "    full_names = [f'{x[0]} {x[1]}' for x in full_name_tuples]\n",
    "    return full_names\n",
    "\n",
    "def array2Dense(x, n_groups):\n",
    "    #z = np.zeros((len(x), n_groups))\n",
    "    z = np.empty((len(x), n_groups), dtype=str)\n",
    "    for enu, row in enumerate(x):\n",
    "        z[enu, :len(row)] += row \n",
    "    return z\n",
    "\n",
    "def padFullNames(full_names, n_groups):\n",
    "    full_names_target = []\n",
    "    for _, x in enumerate(full_names):\n",
    "        n_names = len(x)\n",
    "        if n_names != n_groups:\n",
    "            diff = n_groups - n_names\n",
    "            for i in range(diff):\n",
    "                x.append('')\n",
    "        full_names_target.append(x)\n",
    "    return full_names_target         \n",
    "    \n",
    "\n",
    "def getMGroupOfFullnames(full_names, n_groups = 5):\n",
    "    shuffle_full_names = random.sample(full_names, len(full_names))\n",
    "    n_items = len(full_names)\n",
    "    grouped_full_names = [shuffle_full_names[i:i + n_groups] for i in range(0, n_items, n_groups)]\n",
    "    #grouped_full_names_array = array2Dense(grouped_full_names, n_groups)\n",
    "    grouped_full_names_padded = padFullNames(grouped_full_names, n_groups)\n",
    "    grouped_full_names_dict = {f'Team_{i}':x for i, x in enumerate(grouped_full_names_padded)}\n",
    "    grouped_full_names_df = pd.DataFrame(grouped_full_names_dict)\n",
    "    return grouped_full_names_df\n",
    "\n",
    "full_names = getNRandomFullnames(18)\n",
    "grouped_full_names = getMGroupOfFullnames(full_names)"
   ]
  },
  {
   "cell_type": "code",
   "execution_count": 85,
   "metadata": {},
   "outputs": [
    {
     "data": {
      "text/plain": [
       "['antravian marin-monroy',\n",
       " 'elishka gradert',\n",
       " 'guillaine herbison',\n",
       " 'marin-monroy chehebar',\n",
       " 'reynol sifa',\n",
       " 'sifa steppello',\n",
       " 'jayz abshier',\n",
       " 'abshier fantarella',\n",
       " 'fantarella mollema',\n",
       " 'minetta fruge']"
      ]
     },
     "execution_count": 85,
     "metadata": {},
     "output_type": "execute_result"
    }
   ],
   "source": [
    "full_names[:10]"
   ]
  },
  {
   "cell_type": "code",
   "execution_count": 86,
   "metadata": {},
   "outputs": [
    {
     "data": {
      "text/html": [
       "<div>\n",
       "<style scoped>\n",
       "    .dataframe tbody tr th:only-of-type {\n",
       "        vertical-align: middle;\n",
       "    }\n",
       "\n",
       "    .dataframe tbody tr th {\n",
       "        vertical-align: top;\n",
       "    }\n",
       "\n",
       "    .dataframe thead th {\n",
       "        text-align: right;\n",
       "    }\n",
       "</style>\n",
       "<table border=\"1\" class=\"dataframe\">\n",
       "  <thead>\n",
       "    <tr style=\"text-align: right;\">\n",
       "      <th></th>\n",
       "      <th>Team_0</th>\n",
       "      <th>Team_1</th>\n",
       "      <th>Team_2</th>\n",
       "      <th>Team_3</th>\n",
       "    </tr>\n",
       "  </thead>\n",
       "  <tbody>\n",
       "    <tr>\n",
       "      <td>0</td>\n",
       "      <td>sifa steppello</td>\n",
       "      <td>lytia branca</td>\n",
       "      <td>samanthan levitsky</td>\n",
       "      <td>reynol sifa</td>\n",
       "    </tr>\n",
       "    <tr>\n",
       "      <td>1</td>\n",
       "      <td>branca boatwright</td>\n",
       "      <td>abshier fantarella</td>\n",
       "      <td>marin-monroy chehebar</td>\n",
       "      <td>elishka gradert</td>\n",
       "    </tr>\n",
       "    <tr>\n",
       "      <td>2</td>\n",
       "      <td>minetta fruge</td>\n",
       "      <td>ciprian ciprian</td>\n",
       "      <td>antravian marin-monroy</td>\n",
       "      <td>guillaine herbison</td>\n",
       "    </tr>\n",
       "    <tr>\n",
       "      <td>3</td>\n",
       "      <td>jayz abshier</td>\n",
       "      <td>noakes bechtel</td>\n",
       "      <td>fantarella mollema</td>\n",
       "      <td></td>\n",
       "    </tr>\n",
       "    <tr>\n",
       "      <td>4</td>\n",
       "      <td>devries ghea</td>\n",
       "      <td>librun herschaft</td>\n",
       "      <td>middendorf tith</td>\n",
       "      <td></td>\n",
       "    </tr>\n",
       "  </tbody>\n",
       "</table>\n",
       "</div>"
      ],
      "text/plain": [
       "              Team_0              Team_1                  Team_2  \\\n",
       "0     sifa steppello        lytia branca      samanthan levitsky   \n",
       "1  branca boatwright  abshier fantarella   marin-monroy chehebar   \n",
       "2      minetta fruge     ciprian ciprian  antravian marin-monroy   \n",
       "3       jayz abshier      noakes bechtel      fantarella mollema   \n",
       "4       devries ghea    librun herschaft         middendorf tith   \n",
       "\n",
       "               Team_3  \n",
       "0         reynol sifa  \n",
       "1     elishka gradert  \n",
       "2  guillaine herbison  \n",
       "3                      \n",
       "4                      "
      ]
     },
     "execution_count": 86,
     "metadata": {},
     "output_type": "execute_result"
    }
   ],
   "source": [
    "grouped_full_names\n"
   ]
  },
  {
   "cell_type": "code",
   "execution_count": null,
   "metadata": {},
   "outputs": [],
   "source": []
  }
 ],
 "metadata": {
  "kernelspec": {
   "display_name": "Python 3",
   "language": "python",
   "name": "python3"
  },
  "language_info": {
   "codemirror_mode": {
    "name": "ipython",
    "version": 3
   },
   "file_extension": ".py",
   "mimetype": "text/x-python",
   "name": "python",
   "nbconvert_exporter": "python",
   "pygments_lexer": "ipython3",
   "version": "3.7.4"
  }
 },
 "nbformat": 4,
 "nbformat_minor": 4
}
